{
 "cells": [
  {
   "cell_type": "markdown",
   "metadata": {},
   "source": [
    "## Data Analysis Raster Plots\n",
    "\n",
    "#### Tracking Program single Fly Tracker\n",
    "\n",
    "Data is exported to an CSV file\n"
   ]
  },
  {
   "cell_type": "code",
   "execution_count": 1,
   "metadata": {},
   "outputs": [],
   "source": [
    "# import modules\n",
    "import numpy as np\n",
    "import matplotlib.pyplot as plt\n",
    "import math\n",
    "import seaborn as sns\n",
    "import pandas as pd \n",
    "\n",
    "%matplotlib notebook"
   ]
  },
  {
   "cell_type": "markdown",
   "metadata": {},
   "source": [
    "### Selecting data set file \n",
    "- Import Columns: Frames, Seconds , x and y positions and LED\n",
    "- Convert Frames to secods\n",
    "- Select onset stim "
   ]
  },
  {
   "cell_type": "code",
   "execution_count": 2,
   "metadata": {
    "code_folding": []
   },
   "outputs": [],
   "source": [
    "#Opening the data set file\n",
    "\n",
    "#when run more than one time says list command is not applyable\n",
    "from csv import reader\n",
    "num_files = 20\n",
    "flymotion_all = []\n",
    "for i in range(num_files):\n",
    "    folder_name = 'data_sens37_unamp/'\n",
    "    file_name = '100718_Sens37_unamp_'+str(i+1)+'_fly0.csv'\n",
    "    file = open(folder_name+file_name)\n",
    "    read_file = reader(file)\n",
    "    flymotion_all.append(list(read_file\n",
    "                             ))"
   ]
  },
  {
   "cell_type": "code",
   "execution_count": 3,
   "metadata": {},
   "outputs": [],
   "source": [
    "# analysis on one file\n",
    "folder_name = 'data_sens37_unamp/'\n",
    "file_name = '100718_Sens37_unamp_1_fly0.csv'\n",
    "file1 = open(folder_name+file_name)\n",
    "read_file1 = list(reader(file1))"
   ]
  },
  {
   "cell_type": "code",
   "execution_count": 4,
   "metadata": {
    "code_folding": [],
    "scrolled": false
   },
   "outputs": [],
   "source": [
    "# Data treatment \n",
    "def data_treatment(file):\n",
    "    '''\n",
    "    Select only columns: frames, time, x and y coordinates, and LED_lum and transform data into np_array\n",
    "    Returns:1) data_array containing frames, time, x and y coordinates \n",
    "            2) LED_lum column\n",
    "    '''\n",
    "    fm_data = file[4:]  #Exclude first 4 rows containing unnecessary information\n",
    "    fm_data_array = np.array(fm_data)  #transform data into np array\n",
    "    data_array = fm_data_array[:, 0:4]  #select only frames,seconds and x,y position\n",
    "    pixel_change = fm_data_array[2:,4].astype(np.int)  #pixel change stats in 2 in order to be aligned with the velocity\n",
    "    LED_lum = fm_data_array[1:,8].astype(np.float)  #Select the LED colmumn to know where is the Red Light Stim\n",
    "    return data_array, pixel_change, LED_lum\n",
    "\n",
    "def frame_to_time(data_array, framerate=30.):\n",
    "    frames = (data_array[1:, 0]).astype(np.float)   #transform array into float\n",
    "    timepoints = frames/framerate\n",
    "    return frames, timepoints\n",
    "\n",
    "def LED_ON(LED_lum, frames, timepoints):\n",
    "    '''\n",
    "    Inform when stimulus is on with LED lum. change\n",
    "    '''\n",
    "    LED_diff = np.diff(LED_lum) \n",
    "    timepoints_LED = timepoints[1:]\n",
    "    frames_LED = frames[1:]\n",
    "    crimson_stim_time = timepoints_LED[np.greater(np.abs(LED_diff), 2.)] #look for the place where LED lum changed\n",
    "    crimson_stim_frame = (frames_LED[np.greater(np.abs(LED_diff), 2.)]).astype(int)\n",
    "    return crimson_stim_time, crimson_stim_frame\n",
    "\n",
    "def pixel_per_mm(file):\n",
    "    '''\n",
    "    Calculate pixel per mm using arena size \n",
    "    '''\n",
    "    arena_size_pixel = file[2][1]  #retrieve from excel the size of the arena in pixels\n",
    "    arena_size_mm = 54\n",
    "    ppm = int(arena_size_pixel) / int(arena_size_mm)  #pixel per mm\n",
    "    return ppm  \n",
    "\n",
    "def calculate_dist(data_array, ppm):\n",
    "    x_coordinates = ((data_array[1:, 2]).astype(np.float))/ppm   #transform coordinates in pixels into mm\n",
    "    y_coordinates = ((data_array[1:, 3]).astype(np.float))/ppm\n",
    "    positions_array = np.vstack((x_coordinates, y_coordinates))\n",
    "    distance_between_frames = np.sqrt(np.sum((np.diff(positions_array))**2, axis=0))\n",
    "    cumulative_distance = np.cumsum(distance_between_frames)\n",
    "    return x_coordinates, y_coordinates, positions_array,distance_between_frames, cumulative_distance\n",
    "\n",
    "def calculate_velocity(distance_between_frames, framerate=30.):\n",
    "    velocity = np.divide(distance_between_frames, (1/framerate))\n",
    "    nvel = velocity.shape[0]\n",
    "    return velocity\n",
    "\n",
    "\n",
    "def stimulus_on_off_sec(LED_lum, frames, timepoints):\n",
    "    crimson_stim_time, crimson_stim_frame = LED_ON(LED_lum, frames, timepoints)    \n",
    "    stim_onset_frame =  crimson_stim_frame[0]\n",
    "    stim_offset_frame = crimson_stim_frame[1]\n",
    "    \n",
    "    # analyse only a section of the total frames of 30 frames before crim. onset and 120 frames after crim. onset\n",
    "    # set starting and point for plots\n",
    "    start_point = stim_onset_frame - 30\n",
    "    end_point = stim_onset_frame + 90\n",
    "    return start_point, end_point\n"
   ]
  },
  {
   "cell_type": "code",
   "execution_count": 5,
   "metadata": {},
   "outputs": [],
   "source": [
    "file = read_file1.copy()\n",
    "data_array, pixel_change, LED_lum = data_treatment(file)\n",
    "frames, timepoints = frame_to_time(data_array)\n",
    "LED_diff = np.diff(LED_lum) \n",
    "timepoints_LED = timepoints[1:]\n",
    "frames_LED = frames[1:]\n",
    "crimson_stim_time = timepoints_LED[np.greater(np.abs(LED_diff), 2.)] #look for the place where LED lum changed \n",
    "crimson_stim_frame = (frames_LED[np.greater(np.abs(LED_diff), 2.)]).astype(int)\n",
    "start_point, end_point = stimulus_on_off_sec(LED_lum, frames, timepoints)"
   ]
  },
  {
   "cell_type": "markdown",
   "metadata": {},
   "source": [
    "## Raster plots\n",
    "Here we represent the different behaviours of the fly across time. The behaviours can be stoping (no forward velocity no pixel change), grooming (no forward velocity, only pixel change), and walking( forward velocity and pixel change)"
   ]
  },
  {
   "cell_type": "code",
   "execution_count": 18,
   "metadata": {},
   "outputs": [
    {
     "name": "stdout",
     "output_type": "stream",
     "text": [
      "595\n",
      "595\n",
      "126\n",
      "120\n",
      "120\n"
     ]
    }
   ],
   "source": [
    "data_array, pixel_change, LED_lum = data_treatment(read_file1)\n",
    "ppm = pixel_per_mm(read_file1)\n",
    "frames, timepoints = frame_to_time(data_array)\n",
    "x_coordinates, y_coordinates, positions_array, distance_between_frames, cumulative_distance = calculate_dist(\n",
    "    data_array, ppm)\n",
    "velocity = calculate_velocity(distance_between_frames, framerate=30.)\n",
    "crimson_stim_time, crimson_stim_frame = LED_ON(LED_lum, frames, timepoints)\n",
    "dur_crimson = crimson_stim_time[1] - crimson_stim_time[0]\n",
    "start_point, end_point = stimulus_on_off_sec(LED_lum, frames, timepoints)\n",
    "print (len(velocity))\n",
    "print (len(pixel_change))\n",
    "\n",
    "framerate=30 \n",
    "frames_corrected = frames[1:]\n",
    "frames_stim = frames_corrected[start_point:end_point]\n",
    "velocity_trunc = velocity[start_point:end_point]\n",
    "pixel_change_trunc = pixel_change[start_point:end_point]\n",
    "time_axis = timepoints[start_point:end_point] - (crimson_stim_time[0])+(1/framerate)\n",
    "print(crimson_stim_frame[0])\n",
    "\n",
    "print (len(velocity_trunc))\n",
    "print (len(pixel_change_trunc))"
   ]
  },
  {
   "cell_type": "code",
   "execution_count": 20,
   "metadata": {},
   "outputs": [],
   "source": [
    "def classify_pxl_change(pxl_change, velocity):\n",
    "    # creat array of behaviour category\n",
    "    behav_cat_array = np.zeros(pxl_change.size)\n",
    "    assert pxl_change.size == velocity.size\n",
    "\n",
    "    for i in range(pxl_change.size):\n",
    "        if pxl_change[i] >0:\n",
    "            if velocity[i] > 1.4: \n",
    "                behav_cat_array[i]=1\n",
    "            elif velocity[i] == 0:\n",
    "                behav_cat_array[i]=2\n",
    "\n",
    "        else:\n",
    "            pass\n",
    "    return behav_cat_array"
   ]
  },
  {
   "cell_type": "code",
   "execution_count": 21,
   "metadata": {},
   "outputs": [
    {
     "data": {
      "image/png": "[encoded data removed]",
      "text/plain": [
       "<Figure size 432x288 with 1 Axes>"
      ]
     },
     "metadata": {},
     "output_type": "display_data"
    }
   ],
   "source": [
    "beh_cat_example = classify_pxl_change(pixel_change_trunc, velocity_trunc)\n",
    "fig, ax = plt.subplots()\n",
    "ax.plot(beh_cat_example, '|')\n",
    "ax.set_yticks([0, 1, 2])\n",
    "ax.set_yticklabels(['stop', 'walk', 'groom'])\n",
    "plt.show()"
   ]
  },
  {
   "cell_type": "code",
   "execution_count": 22,
   "metadata": {},
   "outputs": [],
   "source": [
    "#Opening the data set file\n",
    "# from csv import reader\n",
    "num_files = 20\n",
    "# flymotion_all = []\n",
    "velocity_all = []\n",
    "cum_distance_all = []\n",
    "behaviour_classif_all = []\n",
    "\n",
    "for i in range(num_files):\n",
    "    folder_name = 'data_sens37_unamp/'\n",
    "    file_name = '100718_Sens37_unamp_'+str(i+1)+'_fly0.csv'\n",
    "    file = open(folder_name+file_name)\n",
    "    read_file = list(reader(file))\n",
    "    # preprocessing on the read_file\n",
    "    data_array, pixel_change, LED_lum = data_treatment(read_file)\n",
    "    ppm = pixel_per_mm(read_file)\n",
    "    frames, timepoints = frame_to_time(data_array)\n",
    "    x_coordinates, y_coordinates, positions_array, distance_between_frames, cumulative_distance = calculate_dist(\n",
    "        data_array, ppm)\n",
    "    start_point, end_point = stimulus_on_off_sec(LED_lum, frames, timepoints)\n",
    "    velocity = calculate_velocity(distance_between_frames, framerate=30.)#velocity values for each frame\n",
    "    velocity_cropped = velocity[start_point:end_point] # we cut the velocity values 1 seconds before the stim and 4 seconds after\n",
    "    pixel_change_cropped = pixel_change[start_point:end_point]\n",
    "    velocity_all.append(velocity_cropped)\n",
    "    \n",
    "    behaviour_cat = classify_pxl_change(pixel_change_cropped,velocity_cropped)\n",
    "    behaviour_classif_all.append(behaviour_cat)\n",
    "    \n"
   ]
  },
  {
   "cell_type": "code",
   "execution_count": 23,
   "metadata": {},
   "outputs": [
    {
     "data": {
      "image/png": "[encoded data removed]",
      "text/plain": [
       "<Figure size 864x720 with 2 Axes>"
      ]
     },
     "metadata": {},
     "output_type": "display_data"
    }
   ],
   "source": [
    "from matplotlib.colors import ListedColormap\n",
    "from matplotlib import cm\n",
    "frame_start_stim = 30\n",
    "frame_offset_analysis = 120\n",
    "beh_cat_matrix = np.array(behaviour_classif_all)\n",
    "\n",
    "fig,ax = plt.subplots(figsize=(12, 10))\n",
    "\n",
    "#cmap = cm.get_cmap('jet',3)\n",
    "cmap = ListedColormap([\"linen\",\"darkorange\", \"forestgreen\"])\n",
    "\n",
    "# tell imshow about color map so that only set colors are used\n",
    "img = ax.imshow(beh_cat_matrix,cmap=cmap,interpolation='nearest')\n",
    "ax.set_aspect(2.4)\n",
    "ax.set_xticks(np.arange(0, 150, 30))\n",
    "ax.set_xticklabels([-1, 0, 1, 2, 3,4])\n",
    "ax.set_yticks(np.arange(0,20,5))\n",
    "ax.set_yticklabels(['Fly1', 'Fly5', 'Fly10', 'Fly15'])\n",
    "ax.axvline(x=frame_start_stim, color='red', lw=6)\n",
    "ax.axvline(x=frame_offset_analysis, color='grey', lw=2, ls='--')\n",
    "\n",
    "cbar_ax = fig.add_axes([0.95, 0.4, 0.05, 0.2])\n",
    "# make a color bar\n",
    "cbar = fig.colorbar(img, cax=cbar_ax, cmap=cmap, ticks=np.arange(3))\n",
    "cbar.ax.set_yticklabels(['stop', 'walk', 'groom'])  # vertically oriented colorbar\n",
    "\n",
    "plt.savefig('Rasterplot_sens37_unamp.svg')\n",
    "plt.savefig('Rasterplot_sens37_unamp.png')\n",
    "\n",
    "plt.show()"
   ]
  },
  {
   "cell_type": "code",
   "execution_count": 24,
   "metadata": {},
   "outputs": [
    {
     "data": {
      "image/png": "[encoded data removed]",
      "text/plain": [
       "<Figure size 432x288 with 1 Axes>"
      ]
     },
     "metadata": {},
     "output_type": "display_data"
    }
   ],
   "source": [
    "total_number_events = (frame_offset_analysis-frame_start_stim)*num_files\n",
    "beh_cat_timechunk = beh_cat_matrix[:,frame_start_stim:frame_offset_analysis]\n",
    "fig, ax = plt.subplots()\n",
    "counts, edges = np.histogram(beh_cat_timechunk.ravel(), bins=[0,1,2,3])\n",
    "ax.set_ylabel('Percentage of events')\n",
    "ax.bar(np.arange(3), (counts/total_number_events)*100,color=(\"linen\",\"darkorange\", \"forestgreen\"))\n",
    "ax.set_xticks([0, 1,2])\n",
    "ax.set_xticklabels(['stop', 'walk', 'groom'])\n",
    "ax.set_ylim([0, 100])\n",
    "\n",
    "plt.savefig('HistRasterplot_sens37_unamp.svg')\n",
    "plt.savefig('HistRasterplot_sens37_unamp.png')\n",
    "\n",
    "plt.show()"
   ]
  },
  {
   "cell_type": "code",
   "execution_count": 30,
   "metadata": {},
   "outputs": [
    {
     "data": {
      "image/png": "[encoded data removed]",
      "text/plain": [
       "<Figure size 432x288 with 1 Axes>"
      ]
     },
     "metadata": {},
     "output_type": "display_data"
    }
   ],
   "source": [
    "num_events_fly = (frame_offset_analysis-frame_start_stim)\n",
    "num_categories = 3\n",
    "beh_cat_timechunk = beh_cat_matrix[:,frame_start_stim:frame_offset_analysis]\n",
    "frac_counts_cat_allflies = np.empty((num_files, num_categories))\n",
    "for fly_index in range(num_files):\n",
    "    counts_fly, edges = np.histogram(beh_cat_timechunk[fly_index, :], bins=[0,1,2,3])\n",
    "    frac_counts_cat_allflies[fly_index, :] = counts_fly\n",
    "\n",
    "sem_cat = np.std(frac_counts_cat_allflies, axis=0)/np.sqrt(num_files)\n",
    "fig, ax = plt.subplots()\n",
    "ax.bar(np.arange(3), np.mean(frac_counts_cat_allflies, axis=0), yerr=sem_cat,\n",
    "       color=(\"linen\",\"darkorange\", \"forestgreen\"))\n",
    "ax.set_xticks([0, 1,2])\n",
    "ax.set_xticklabels(['stop', 'walk', 'groom'])\n",
    "ax.set_ylabel('Fraction of events')\n",
    "\n",
    "#plt.savefig('HistRasterplot_sens37_unamp.svg')\n",
    "#plt.savefig('HistRasterplot_sens37_unamp.png')\n",
    "\n",
    "plt.show()\n",
    "\n",
    "import numpy\n",
    "a=frac_counts_cat_allflies\n",
    "numpy.savetxt(\"msbristles_unamp.csv\", a, delimiter=\",\",fmt='%d')\n",
    "\n",
    "\n",
    "#print (frac_counts_cat_allflies)\n",
    "#print (sem_cat)"
   ]
  },
  {
   "cell_type": "code",
   "execution_count": 31,
   "metadata": {},
   "outputs": [
    {
     "name": "stdout",
     "output_type": "stream",
     "text": [
      "[83, 73, 71, 63, 59, 84, 54, 86, 87, 70, 72, 62, 56, 62, 69, 73, 43, 79, 77, 58]\n"
     ]
    },
    {
     "data": {
      "text/plain": [
       "array([16,  6, 12, 19,  4, 13, 11,  3, 14,  9,  2, 10, 15,  1, 18, 17,  0,\n",
       "        5,  7,  8])"
      ]
     },
     "execution_count": 31,
     "metadata": {},
     "output_type": "execute_result"
    }
   ],
   "source": [
    "#print(frac_counts_cat_allflies)\n",
    "beh_cat_matrix = np.array(behaviour_classif_all)\n",
    "num_categories = 3\n",
    "frac_counts_3sec = np.empty((num_files, num_categories))\n",
    "for fly_index in range(num_files):\n",
    "    counts_fly, edges = np.histogram(beh_cat_matrix[fly_index, :], bins=[0,1,2,3])\n",
    "    frac_counts_3sec[fly_index, :] = counts_fly\n",
    "\n",
    "sem_cat = np.std(frac_counts_3sec, axis=0)/np.sqrt(num_files)\n",
    "\n",
    "walk_number = []\n",
    "for i in range(len(frac_counts_3sec)):   #get counts for \n",
    "    walk=int(frac_counts_3sec[i][1])\n",
    "    walk_number.append(walk)\n",
    "print (walk_number)\n",
    "sort_index = np.argsort(walk_number)\n",
    "sort_index\n",
    "\n"
   ]
  },
  {
   "cell_type": "code",
   "execution_count": 32,
   "metadata": {},
   "outputs": [],
   "source": [
    "#Opening the data set file\n",
    "# from csv import reader\n",
    "num_files = 20\n",
    "# flymotion_all = []\n",
    "velocity_all = []\n",
    "cum_distance_all = []\n",
    "behaviour_classif_all_ordered = []\n",
    "\n",
    "for i in sort_index:\n",
    "    folder_name = 'data_sens37_unamp/'\n",
    "    file_name = '100718_Sens37_unamp_'+str(i+1)+'_fly0.csv'\n",
    "    file = open(folder_name+file_name)\n",
    "    read_file = list(reader(file))\n",
    "    # preprocessing on the read_file\n",
    "    data_array, pixel_change, LED_lum = data_treatment(read_file)\n",
    "    ppm = pixel_per_mm(read_file)\n",
    "    frames, timepoints = frame_to_time(data_array)\n",
    "    x_coordinates, y_coordinates, positions_array, distance_between_frames, cumulative_distance = calculate_dist(\n",
    "        data_array, ppm)\n",
    "    start_point, end_point = stimulus_on_off_sec(LED_lum, frames, timepoints)\n",
    "    velocity = calculate_velocity(distance_between_frames, framerate=30.)#velocity values for each frame\n",
    "    velocity_cropped = velocity[start_point:end_point] # we cut the velocity values 1 seconds before the stim and 4 seconds after\n",
    "    pixel_change_cropped = pixel_change[start_point:end_point]\n",
    "    velocity_all.append(velocity_cropped)\n",
    "    \n",
    "    behaviour_cat = classify_pxl_change(pixel_change_cropped,velocity_cropped)\n",
    "    behaviour_classif_all_ordered.append(behaviour_cat)\n",
    "    \n",
    "#print (behaviour_classif_all_ordered)"
   ]
  },
  {
   "cell_type": "code",
   "execution_count": 33,
   "metadata": {},
   "outputs": [
    {
     "data": {
      "image/png": "[encoded data removed]",
      "text/plain": [
       "<Figure size 864x720 with 2 Axes>"
      ]
     },
     "metadata": {},
     "output_type": "display_data"
    }
   ],
   "source": [
    "from matplotlib.colors import ListedColormap\n",
    "from matplotlib import cm\n",
    "frame_start_stim = 30\n",
    "frame_offset_analysis = 60\n",
    "beh_cat_matrix = np.array(behaviour_classif_all_ordered)\n",
    "\n",
    "fig,ax = plt.subplots(figsize=(12, 10))\n",
    "\n",
    "#cmap = cm.get_cmap('jet',3)\n",
    "cmap = ListedColormap([\"linen\",\"darkorange\", \"forestgreen\"])\n",
    "\n",
    "# tell imshow about color map so that only set colors are used\n",
    "img = ax.imshow(beh_cat_matrix,cmap=cmap,interpolation='nearest')\n",
    "ax.set_aspect(2.4)\n",
    "ax.set_xticks(np.arange(0, 150, 30))\n",
    "ax.set_xticklabels([-1, 0, 1, 2, 3,4])\n",
    "ax.set_yticks(np.arange(0,20,1))\n",
    "ax.set_yticklabels([1,2,3,4,5,6,7,8,9,10,11,12,13,14,15,16,17,18,19,20])\n",
    "ax.axvline(x=frame_start_stim, color='red', lw=6)\n",
    "#ax.axvline(x=frame_offset_analysis, color='grey', lw=2, ls='--')\n",
    "\n",
    "cbar_ax = fig.add_axes([0.95, 0.4, 0.05, 0.2])\n",
    "# make a color bar\n",
    "cbar = fig.colorbar(img, cax=cbar_ax, cmap=cmap, ticks=np.arange(3))\n",
    "cbar.ax.set_yticklabels(['stop', 'walk', 'groom'])  # vertically oriented colorbar\n",
    "\n",
    "plt.savefig('Rasterplot_sens37_unamp_ordered.svg')\n",
    "plt.savefig('Rasterplot_sens37_unamp_ordered.png')\n",
    "\n",
    "plt.show()\n",
    "\n"
   ]
  },
  {
   "cell_type": "code",
   "execution_count": null,
   "metadata": {},
   "outputs": [],
   "source": []
  }
 ],
 "metadata": {
  "hide_input": false,
  "kernelspec": {
   "display_name": "Python 3",
   "language": "python",
   "name": "python3"
  },
  "language_info": {
   "codemirror_mode": {
    "name": "ipython",
    "version": 3
   },
   "file_extension": ".py",
   "mimetype": "text/x-python",
   "name": "python",
   "nbconvert_exporter": "python",
   "pygments_lexer": "ipython3",
   "version": "3.6.4"
  },
  "latex_envs": {
   "LaTeX_envs_menu_present": true,
   "autoclose": false,
   "autocomplete": true,
   "bibliofile": "biblio.bib",
   "cite_by": "apalike",
   "current_citInitial": 1,
   "eqLabelWithNumbers": true,
   "eqNumInitial": 1,
   "hotkeys": {
    "equation": "Ctrl-E",
    "itemize": "Ctrl-I"
   },
   "labels_anchors": false,
   "latex_user_defs": false,
   "report_style_numbering": false,
   "user_envs_cfg": false
  },
  "varInspector": {
   "cols": {
    "lenName": 16,
    "lenType": 16,
    "lenVar": 40
   },
   "kernels_config": {
    "python": {
     "delete_cmd_postfix": "",
     "delete_cmd_prefix": "del ",
     "library": "var_list.py",
     "varRefreshCmd": "print(var_dic_list())"
    },
    "r": {
     "delete_cmd_postfix": ") ",
     "delete_cmd_prefix": "rm(",
     "library": "var_list.r",
     "varRefreshCmd": "cat(var_dic_list()) "
    }
   },
   "types_to_exclude": [
    "module",
    "function",
    "builtin_function_or_method",
    "instance",
    "_Feature"
   ],
   "window_display": false
  }
 },
 "nbformat": 4,
 "nbformat_minor": 2
}
